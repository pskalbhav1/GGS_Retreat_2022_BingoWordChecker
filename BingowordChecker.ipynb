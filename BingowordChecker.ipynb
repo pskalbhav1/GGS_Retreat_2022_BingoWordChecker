{
 "cells": [
  {
   "cell_type": "code",
   "execution_count": 1,
   "metadata": {},
   "outputs": [],
   "source": [
    "import gtts\n",
    "import speech_recognition as sr\n",
    "import pyttsx3 \n",
    "from playsound import playsound"
   ]
  },
  {
   "cell_type": "code",
   "execution_count": 2,
   "metadata": {},
   "outputs": [],
   "source": [
    "r = sr.Recognizer() "
   ]
  },
  {
   "cell_type": "code",
   "execution_count": 3,
   "metadata": {},
   "outputs": [
    {
     "name": "stdout",
     "output_type": "stream",
     "text": [
      "{}\n"
     ]
    }
   ],
   "source": [
    "#list=[\"googler\",\"noogler\",\"intern\",\"programs\",\"scholarship\",\"diversity\",\"google ads\",\"google assistant\",\"google classroom\",\"google cloud\",\"google domains\",\"google fit\",\"google fonts\",\"google home\",\"google meet\",\"google pay\",\"google photos\",\"google play\",\"google podcasts\",\"google shopping\",\"hangouts\",\"AdMob\",\"analytics\",\"android\",\"calender\",\"chrome\",\"docs\",\"drive\",\"earth\",\"contacts\",\"finance\",\"firebase\",\"flutter\",\"forms\",\"gboard\",\"gmail\",\"keep\",\"maps\",\"messages\",\"news\",\"scholar\",\"search\",\"sheets\",\"sites\",\"slides\",\"tensorflow\",\"translate\",\"travel\",\"wear os\",\"web\",\"youtube\"]\n",
    "#print(list)\n",
    "dict={}\n",
    "print(dict)"
   ]
  },
  {
   "cell_type": "code",
   "execution_count": 4,
   "metadata": {},
   "outputs": [
    {
     "name": "stdout",
     "output_type": "stream",
     "text": [
      "['academic', 'accessible', 'application', 'bachelors', 'campus', 'career', 'challenge', 'coding', 'communities', 'computer science', 'confidence', 'connect', 'data structures and algorithms', 'different', 'diversity', 'encourage', 'equity', 'fulltime role', 'generation', 'gmail', 'google', 'google meet', 'googler', 'growth', 'inclusion', 'internship', 'languages', 'masters', 'networking', 'noogler', 'office', 'opportunity', 'performance', 'privacy', 'profile', 'programs', 'project', 'qualifications', 'recruiter', 'resume', 'scale', 'scholar ', 'scholarship', 'software engineering', 'stem', 'students', 'team', 'technology', 'training', 'underrepresented', 'users', 'women', 'work culture', 'work from home', 'workforce']\n"
     ]
    }
   ],
   "source": [
    "file = open('words.txt','r')\n",
    "word = file.readlines()\n",
    "#print(word)\n",
    "length = len(word)\n",
    "#print(length)\n",
    "lists=[]\n",
    "for i in word:\n",
    "    i = i. rstrip(\"\\n\")\n",
    "    i=i.lower()\n",
    "    lists.append(i)\n",
    "print(lists)"
   ]
  },
  {
   "cell_type": "code",
   "execution_count": null,
   "metadata": {},
   "outputs": [
    {
     "name": "stdout",
     "output_type": "stream",
     "text": [
      "{'google': 1}\n",
      "{'google': 1}\n",
      "{'google': 1, 'work from home': 1}\n",
      "Nothing heard\n"
     ]
    }
   ],
   "source": [
    "text=''\n",
    "c=0\n",
    "while(text!='bye'):\n",
    "    try:\n",
    "        with sr.Microphone() as source2:                     #for live version\n",
    "            r.adjust_for_ambient_noise(source2, duration=0.2)\n",
    "        #with sr.WavFile(\"1.mp4\") as source:              # use \"test.wav\" as the audio source\n",
    "            #audio = r.record(source)  \n",
    "            audio2 = r.listen(source2)\n",
    "            MyText = r.recognize_google(audio2)\n",
    "            text = MyText.lower()\n",
    "            text=text.split(\" \")\n",
    "            for i in text:\n",
    "                if i in lists:\n",
    "                    dict[i]=1\n",
    "                if 'computer '+i in lists:\n",
    "                    dict['computer '+i]=1 \n",
    "                if 'fulltime '+i in lists:\n",
    "                    dict['fulltime '+i]=1 \n",
    "                if 'work '+i in lists:\n",
    "                    dict['work '+i]=1 \n",
    "                if 'software '+i in lists:\n",
    "                    dict['software '+i]=1 \n",
    "                if 'google '+i in lists:\n",
    "                    dict['google '+i]=1 \n",
    "                if 'work from '+i in lists:\n",
    "                    dict['work from '+i]=1 \n",
    "                if 'data structures and '+i in lists:\n",
    "                    dict['data structures and '+i]=1 \n",
    "            print(dict)\n",
    "    except sr.RequestError as e:\n",
    "        print(\"Could not request results; {0}\".format(e))\n",
    "          \n",
    "    except sr.UnknownValueError:\n",
    "        print(\"Nothing heard\")   \n",
    "        c=c+1\n",
    "        if c==5:\n",
    "            break"
   ]
  },
  {
   "cell_type": "code",
   "execution_count": null,
   "metadata": {},
   "outputs": [],
   "source": [
    "f = open(\"output.txt\", \"w\")\n",
    "f.write(str(dict))\n",
    "f.close()"
   ]
  },
  {
   "cell_type": "code",
   "execution_count": null,
   "metadata": {},
   "outputs": [],
   "source": [
    "#def callback(recognizer, audio):                          # this is called from the background thread\n",
    "   # try:\n",
    "        #print(\"You said \" + recognizer.recognize(audio))  # received audio data, now need to recognize it\n",
    "    #except LookupError:\n",
    "        #print(\"Oops! Didn't catch that\")\n",
    "#r = sr.Recognizer()\n",
    "#r.listen_in_background(sr.Microphone(), callback)\n"
   ]
  },
  {
   "cell_type": "code",
   "execution_count": null,
   "metadata": {
    "scrolled": false
   },
   "outputs": [],
   "source": [
    "import speech_recognition as sr\n",
    "for index, name in enumerate(sr.Microphone.list_microphone_names()):\n",
    "    print(\"Microphone with name \\\"{1}\\\" found for `Microphone(device_index={0})`\".format(index, name))"
   ]
  },
  {
   "cell_type": "code",
   "execution_count": null,
   "metadata": {},
   "outputs": [],
   "source": []
  }
 ],
 "metadata": {
  "kernelspec": {
   "display_name": "Python 3",
   "language": "python",
   "name": "python3"
  },
  "language_info": {
   "codemirror_mode": {
    "name": "ipython",
    "version": 3
   },
   "file_extension": ".py",
   "mimetype": "text/x-python",
   "name": "python",
   "nbconvert_exporter": "python",
   "pygments_lexer": "ipython3",
   "version": "3.8.3"
  }
 },
 "nbformat": 4,
 "nbformat_minor": 4
}
